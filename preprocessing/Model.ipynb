{
 "cells": [
  {
   "cell_type": "code",
   "execution_count": 1,
   "metadata": {},
   "outputs": [],
   "source": [
    "import matplotlib.pyplot as plt\n",
    "import numpy as np\n",
    "import pandas as pd\n",
    "\n",
    "from sklearn.ensemble import RandomForestClassifier\n",
    "from sklearn.metrics import confusion_matrix\n",
    "from sklearn.model_selection import train_test_split\n",
    "from sklearn.preprocessing import StandardScaler\n",
    "from sklearn.utils.multiclass import unique_labels"
   ]
  },
  {
   "cell_type": "code",
   "execution_count": 2,
   "metadata": {},
   "outputs": [],
   "source": [
    "def plot_confusion_matrix(y_true, y_pred, classes,\n",
    "                          normalize=False,\n",
    "                          title=None,\n",
    "                          cmap=plt.cm.Blues):\n",
    "    \"\"\"\n",
    "    This function prints and plots the confusion matrix.\n",
    "    Normalization can be applied by setting `normalize=True`.\n",
    "    \"\"\"\n",
    "    if not title:\n",
    "        if normalize:\n",
    "            title = 'Normalized confusion matrix'\n",
    "        else:\n",
    "            title = 'Confusion matrix, without normalization'\n",
    "\n",
    "    # Compute confusion matrix\n",
    "    cm = confusion_matrix(y_true, y_pred)\n",
    "    # Only use the labels that appear in the data\n",
    "    classes = classes[unique_labels(y_true, y_pred)]\n",
    "    if normalize:\n",
    "        cm = cm.astype('float') / cm.sum(axis=1)[:, np.newaxis]\n",
    "        print(\"Normalized confusion matrix\")\n",
    "    else:\n",
    "        print('Confusion matrix, without normalization')\n",
    "\n",
    "    print(cm)\n",
    "\n",
    "    fig, ax = plt.subplots()\n",
    "    im = ax.imshow(cm, interpolation='nearest', cmap=cmap)\n",
    "    ax.figure.colorbar(im, ax=ax)\n",
    "    # We want to show all ticks...\n",
    "    ax.set(xticks=np.arange(cm.shape[1]),\n",
    "           yticks=np.arange(cm.shape[0]),\n",
    "           # ... and label them with the respective list entries\n",
    "           xticklabels=classes, yticklabels=classes,\n",
    "           title=title,\n",
    "           ylabel='True label',\n",
    "           xlabel='Predicted label')\n",
    "\n",
    "    # Rotate the tick labels and set their alignment.\n",
    "    plt.setp(ax.get_xticklabels(), rotation=45, ha=\"right\",\n",
    "             rotation_mode=\"anchor\")\n",
    "\n",
    "    # Loop over data dimensions and create text annotations.\n",
    "    fmt = '.2f' if normalize else 'd'\n",
    "    thresh = cm.max() / 2.\n",
    "    for i in range(cm.shape[0]):\n",
    "        for j in range(cm.shape[1]):\n",
    "            ax.text(j, i, format(cm[i, j], fmt),\n",
    "                    ha=\"center\", va=\"center\",\n",
    "                    color=\"white\" if cm[i, j] > thresh else \"black\")\n",
    "    fig.tight_layout()\n",
    "    return ax"
   ]
  },
  {
   "cell_type": "code",
   "execution_count": 3,
   "metadata": {
    "scrolled": false
   },
   "outputs": [
    {
     "name": "stdout",
     "output_type": "stream",
     "text": [
      "Normalized confusion matrix\n",
      "[[6.25000000e-01 9.37500000e-02 1.87500000e-01 7.23684211e-02\n",
      "  2.13815789e-02]\n",
      " [1.91268191e-01 2.80665281e-01 3.51351351e-01 1.22661123e-01\n",
      "  5.40540541e-02]\n",
      " [8.34621329e-02 3.94126739e-02 5.98918083e-01 2.27975270e-01\n",
      "  5.02318393e-02]\n",
      " [1.13095238e-02 1.13095238e-02 1.38690476e-01 6.38690476e-01\n",
      "  2.00000000e-01]\n",
      " [1.84706317e-04 5.54118951e-04 2.40118212e-03 5.65201330e-02\n",
      "  9.40339860e-01]]\n"
     ]
    },
    {
     "data": {
      "text/plain": [
       "<matplotlib.axes._subplots.AxesSubplot at 0x23a5087ce80>"
      ]
     },
     "execution_count": 3,
     "metadata": {},
     "output_type": "execute_result"
    },
    {
     "data": {
      "image/png": "[encoded data removed]",
      "text/plain": [
       "<Figure size 432x288 with 2 Axes>"
      ]
     },
     "metadata": {},
     "output_type": "display_data"
    }
   ],
   "source": [
    "data = []\n",
    "for year in range(2010, 2020):\n",
    "    local_scaler = StandardScaler()\n",
    "    raw_data = pd.read_csv(\"e_labeled_data/%s.csv\" % year)\n",
    "    raw_data = raw_data.loc[raw_data[\"consume_per_conn\"] != np.inf].reset_index(drop = True)\n",
    "    raw_data = raw_data.iloc[:, [1,2,3,4,5,6,8]]\n",
    "    raw_data.iloc[:,[1,2,3]] = local_scaler.fit_transform(raw_data.iloc[:,[1,2,3]])\n",
    "    data.append(raw_data)\n",
    "data = pd.concat(data, ignore_index = True)\n",
    "train_X, test_X, train_y, test_y = train_test_split(data.iloc[:,[0,1,2,3,4,5]], data.iloc[:,6], test_size = 0.4)\n",
    "\n",
    "global_scaler = StandardScaler()\n",
    "train_X.iloc[:,[0,4,5]] = global_scaler.fit_transform(train_X.iloc[:,[0,4,5]])\n",
    "test_X.iloc[:,[0,4,5]] = global_scaler.transform(test_X.iloc[:,[0,4,5]])\n",
    "\n",
    "# model\n",
    "model = RandomForestClassifier(n_estimators = 100, oob_score = True, n_jobs = 8)\n",
    "model.fit(train_X, train_y)\n",
    "plot_confusion_matrix(test_y, model.predict(test_X), classes = np.array([\"0\", \"A\", \"B\", \"C\", \"D\", \"E\"]), normalize = True)"
   ]
  },
  {
   "cell_type": "code",
   "execution_count": null,
   "metadata": {},
   "outputs": [],
   "source": []
  }
 ],
 "metadata": {
  "kernelspec": {
   "display_name": "Python 3",
   "language": "python",
   "name": "python3"
  },
  "language_info": {
   "codemirror_mode": {
    "name": "ipython",
    "version": 3
   },
   "file_extension": ".py",
   "mimetype": "text/x-python",
   "name": "python",
   "nbconvert_exporter": "python",
   "pygments_lexer": "ipython3",
   "version": "3.6.4"
  }
 },
 "nbformat": 4,
 "nbformat_minor": 2
}
