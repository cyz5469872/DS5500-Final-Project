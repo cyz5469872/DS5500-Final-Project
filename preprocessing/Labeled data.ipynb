{
 "cells": [
  {
   "cell_type": "code",
   "execution_count": 2,
   "metadata": {},
   "outputs": [],
   "source": [
    "import numpy as np\n",
    "import pandas as pd\n",
    "import random\n",
    "import sys\n",
    "from sklearn.preprocessing import OneHotEncoder\n",
    "from sklearn.semi_supervised import LabelSpreading\n",
    "from sklearn.semi_supervised import LabelPropagation\n",
    "from scipy import sparse\n",
    "from scipy.sparse import csgraph\n",
    "from sklearn.preprocessing import minmax_scale"
   ]
  },
  {
   "cell_type": "markdown",
   "metadata": {},
   "source": [
    "## City data"
   ]
  },
  {
   "cell_type": "code",
   "execution_count": 21,
   "metadata": {},
   "outputs": [],
   "source": [
    "dataset = pd.read_csv(\"predict_e_data.csv\")"
   ]
  },
  {
   "cell_type": "code",
   "execution_count": 34,
   "metadata": {},
   "outputs": [],
   "source": [
    "city_data = dataset.groupby([\"city\",\"years\", \"companies\"]).mean().reset_index().loc[:, [\"city\", \"years\", \"companies\", \"predict_label\"]]"
   ]
  },
  {
   "cell_type": "code",
   "execution_count": 35,
   "metadata": {},
   "outputs": [
    {
     "data": {
      "text/html": [
       "<div>\n",
       "<style scoped>\n",
       "    .dataframe tbody tr th:only-of-type {\n",
       "        vertical-align: middle;\n",
       "    }\n",
       "\n",
       "    .dataframe tbody tr th {\n",
       "        vertical-align: top;\n",
       "    }\n",
       "\n",
       "    .dataframe thead th {\n",
       "        text-align: right;\n",
       "    }\n",
       "</style>\n",
       "<table border=\"1\" class=\"dataframe\">\n",
       "  <thead>\n",
       "    <tr style=\"text-align: right;\">\n",
       "      <th></th>\n",
       "      <th>city</th>\n",
       "      <th>years</th>\n",
       "      <th>companies</th>\n",
       "      <th>predict_label</th>\n",
       "    </tr>\n",
       "  </thead>\n",
       "  <tbody>\n",
       "    <tr>\n",
       "      <th>0</th>\n",
       "      <td>'S GRAVENHAGE</td>\n",
       "      <td>2015</td>\n",
       "      <td>stedin</td>\n",
       "      <td>1.666667</td>\n",
       "    </tr>\n",
       "    <tr>\n",
       "      <th>1</th>\n",
       "      <td>'S GRAVENHAGE</td>\n",
       "      <td>2016</td>\n",
       "      <td>stedin</td>\n",
       "      <td>2.375000</td>\n",
       "    </tr>\n",
       "    <tr>\n",
       "      <th>2</th>\n",
       "      <td>'S GRAVENHAGE</td>\n",
       "      <td>2017</td>\n",
       "      <td>stedin</td>\n",
       "      <td>2.333333</td>\n",
       "    </tr>\n",
       "    <tr>\n",
       "      <th>3</th>\n",
       "      <td>'S GRAVENHAGE</td>\n",
       "      <td>2019</td>\n",
       "      <td>stedin</td>\n",
       "      <td>3.000000</td>\n",
       "    </tr>\n",
       "    <tr>\n",
       "      <th>4</th>\n",
       "      <td>'S GRAVENMOER</td>\n",
       "      <td>2010</td>\n",
       "      <td>enexis</td>\n",
       "      <td>2.560976</td>\n",
       "    </tr>\n",
       "  </tbody>\n",
       "</table>\n",
       "</div>"
      ],
      "text/plain": [
       "            city  years companies  predict_label\n",
       "0  'S GRAVENHAGE   2015    stedin       1.666667\n",
       "1  'S GRAVENHAGE   2016    stedin       2.375000\n",
       "2  'S GRAVENHAGE   2017    stedin       2.333333\n",
       "3  'S GRAVENHAGE   2019    stedin       3.000000\n",
       "4  'S GRAVENMOER   2010    enexis       2.560976"
      ]
     },
     "execution_count": 35,
     "metadata": {},
     "output_type": "execute_result"
    }
   ],
   "source": [
    "city_data.head()"
   ]
  },
  {
   "cell_type": "code",
   "execution_count": 36,
   "metadata": {},
   "outputs": [],
   "source": [
    "city_data[\"predict_label\"] = city_data[\"predict_label\"].apply(lambda x: int(x))"
   ]
  },
  {
   "cell_type": "code",
   "execution_count": 38,
   "metadata": {},
   "outputs": [],
   "source": [
    "city_data.to_csv(\"e_city_data.csv\", index = False)"
   ]
  },
  {
   "cell_type": "code",
   "execution_count": 39,
   "metadata": {},
   "outputs": [],
   "source": [
    "dataset = pd.read_csv(\"predict_g_data.csv\")\n",
    "city_data = dataset.groupby([\"city\",\"years\", \"companies\"]).mean().reset_index().loc[:, [\"city\", \"years\", \"companies\", \"predict_label\"]]\n",
    "city_data[\"predict_label\"] = city_data[\"predict_label\"].apply(lambda x: int(x))\n",
    "city_data.to_csv(\"g_city_data.csv\", index = False)"
   ]
  },
  {
   "cell_type": "markdown",
   "metadata": {},
   "source": [
    "## Low-T and smartmeter"
   ]
  },
  {
   "cell_type": "code",
   "execution_count": 3,
   "metadata": {},
   "outputs": [],
   "source": [
    "dataset = pd.read_csv(\"predict_e_data.csv\")"
   ]
  },
  {
   "cell_type": "code",
   "execution_count": 9,
   "metadata": {},
   "outputs": [],
   "source": [
    "L_and_S = dataset.groupby([\"city\",\"years\", \"companies\"]).mean().reset_index().loc[:, [\"city\", \"years\", \"companies\", \"smartmeter_perc\", \"annual_consume_lowtarif_perc\"]]"
   ]
  },
  {
   "cell_type": "code",
   "execution_count": 13,
   "metadata": {},
   "outputs": [],
   "source": [
    "annual_consume = dataset.groupby([\"city\",\"years\", \"companies\"]).sum().reset_index().loc[:, [\"city\", \"years\", \"companies\", \"annual_consume\"]]"
   ]
  },
  {
   "cell_type": "code",
   "execution_count": 18,
   "metadata": {},
   "outputs": [],
   "source": [
    "L_S_and_consume = pd.merge(left = L_and_S, right = annual_consume, left_on = [\"city\",\"years\", \"companies\"], right_on = [\"city\",\"years\", \"companies\"])"
   ]
  },
  {
   "cell_type": "code",
   "execution_count": 22,
   "metadata": {
    "scrolled": true
   },
   "outputs": [],
   "source": [
    "L_S_and_consume.to_csv(\"mean_LS.csv\", index = False, float_format = \"%g\")"
   ]
  },
  {
   "cell_type": "code",
   "execution_count": 3,
   "metadata": {},
   "outputs": [],
   "source": [
    "L_S_and_consume = pd.read_csv(\"mean_LS.csv\")"
   ]
  },
  {
   "cell_type": "code",
   "execution_count": 5,
   "metadata": {
    "scrolled": true
   },
   "outputs": [],
   "source": [
    "L_S_and_consume[\"annual_consume\"] = L_S_and_consume[\"annual_consume\"] / 1000"
   ]
  },
  {
   "cell_type": "code",
   "execution_count": 8,
   "metadata": {},
   "outputs": [],
   "source": [
    "L_S_and_consume.to_csv(\"mean_LS.csv\", index = False, float_format = \"%g\")"
   ]
  },
  {
   "cell_type": "code",
   "execution_count": 11,
   "metadata": {},
   "outputs": [
    {
     "data": {
      "text/plain": [
       "55832.6"
      ]
     },
     "execution_count": 11,
     "metadata": {},
     "output_type": "execute_result"
    }
   ],
   "source": [
    "np.max(L_S_and_consume[\"annual_consume\"])"
   ]
  },
  {
   "cell_type": "code",
   "execution_count": 12,
   "metadata": {},
   "outputs": [
    {
     "data": {
      "text/plain": [
       "1.249"
      ]
     },
     "execution_count": 12,
     "metadata": {},
     "output_type": "execute_result"
    }
   ],
   "source": [
    "np.min(L_S_and_consume[\"annual_consume\"])"
   ]
  },
  {
   "cell_type": "code",
   "execution_count": 15,
   "metadata": {},
   "outputs": [
    {
     "data": {
      "text/plain": [
       "array([2.00328299, 2.01068303, 2.00365246, ..., 2.00110454, 2.00108262,\n",
       "       2.00109261])"
      ]
     },
     "execution_count": 15,
     "metadata": {},
     "output_type": "execute_result"
    }
   ],
   "source": [
    "minmax_scale(L_S_and_consume[\"annual_consume\"],feature_range=(2, 20))"
   ]
  },
  {
   "cell_type": "markdown",
   "metadata": {},
   "source": [
    "## Geocode"
   ]
  },
  {
   "cell_type": "code",
   "execution_count": 2,
   "metadata": {},
   "outputs": [],
   "source": [
    "e_geocode = pd.read_csv(\"eee.csv\")"
   ]
  },
  {
   "cell_type": "code",
   "execution_count": 6,
   "metadata": {
    "scrolled": true
   },
   "outputs": [
    {
     "data": {
      "text/html": [
       "<div>\n",
       "<style scoped>\n",
       "    .dataframe tbody tr th:only-of-type {\n",
       "        vertical-align: middle;\n",
       "    }\n",
       "\n",
       "    .dataframe tbody tr th {\n",
       "        vertical-align: top;\n",
       "    }\n",
       "\n",
       "    .dataframe thead th {\n",
       "        text-align: right;\n",
       "    }\n",
       "</style>\n",
       "<table border=\"1\" class=\"dataframe\">\n",
       "  <thead>\n",
       "    <tr style=\"text-align: right;\">\n",
       "      <th></th>\n",
       "      <th>city</th>\n",
       "      <th>years</th>\n",
       "      <th>companies</th>\n",
       "      <th>predict_label</th>\n",
       "      <th>latitude</th>\n",
       "      <th>longtitude</th>\n",
       "    </tr>\n",
       "  </thead>\n",
       "  <tbody>\n",
       "    <tr>\n",
       "      <th>0</th>\n",
       "      <td>S-GRAVENHAGE</td>\n",
       "      <td>2010</td>\n",
       "      <td>liander</td>\n",
       "      <td>3</td>\n",
       "      <td>52.083333</td>\n",
       "      <td>4.300000</td>\n",
       "    </tr>\n",
       "    <tr>\n",
       "      <th>1</th>\n",
       "      <td>S-GRAVENHAGE</td>\n",
       "      <td>2010</td>\n",
       "      <td>stedin</td>\n",
       "      <td>2</td>\n",
       "      <td>52.083333</td>\n",
       "      <td>4.300000</td>\n",
       "    </tr>\n",
       "    <tr>\n",
       "      <th>29</th>\n",
       "      <td>ROTTERDAM</td>\n",
       "      <td>2010</td>\n",
       "      <td>liander</td>\n",
       "      <td>2</td>\n",
       "      <td>51.916667</td>\n",
       "      <td>4.500000</td>\n",
       "    </tr>\n",
       "    <tr>\n",
       "      <th>30</th>\n",
       "      <td>ROTTERDAM</td>\n",
       "      <td>2010</td>\n",
       "      <td>stedin</td>\n",
       "      <td>2</td>\n",
       "      <td>51.916667</td>\n",
       "      <td>4.500000</td>\n",
       "    </tr>\n",
       "    <tr>\n",
       "      <th>49</th>\n",
       "      <td>UTRECHT</td>\n",
       "      <td>2010</td>\n",
       "      <td>liander</td>\n",
       "      <td>1</td>\n",
       "      <td>52.093813</td>\n",
       "      <td>5.119095</td>\n",
       "    </tr>\n",
       "    <tr>\n",
       "      <th>50</th>\n",
       "      <td>UTRECHT</td>\n",
       "      <td>2010</td>\n",
       "      <td>stedin</td>\n",
       "      <td>2</td>\n",
       "      <td>52.093813</td>\n",
       "      <td>5.119095</td>\n",
       "    </tr>\n",
       "    <tr>\n",
       "      <th>66</th>\n",
       "      <td>EINDHOVEN</td>\n",
       "      <td>2010</td>\n",
       "      <td>enexis</td>\n",
       "      <td>2</td>\n",
       "      <td>51.450000</td>\n",
       "      <td>5.466667</td>\n",
       "    </tr>\n",
       "    <tr>\n",
       "      <th>76</th>\n",
       "      <td>HAARLEMMERLIEDE</td>\n",
       "      <td>2010</td>\n",
       "      <td>liander</td>\n",
       "      <td>2</td>\n",
       "      <td>52.388873</td>\n",
       "      <td>4.687978</td>\n",
       "    </tr>\n",
       "    <tr>\n",
       "      <th>86</th>\n",
       "      <td>GRONINGEN</td>\n",
       "      <td>2010</td>\n",
       "      <td>enexis</td>\n",
       "      <td>2</td>\n",
       "      <td>53.216667</td>\n",
       "      <td>6.550000</td>\n",
       "    </tr>\n",
       "    <tr>\n",
       "      <th>96</th>\n",
       "      <td>ARNHEM</td>\n",
       "      <td>2010</td>\n",
       "      <td>liander</td>\n",
       "      <td>2</td>\n",
       "      <td>51.979818</td>\n",
       "      <td>5.925636</td>\n",
       "    </tr>\n",
       "    <tr>\n",
       "      <th>106</th>\n",
       "      <td>S-HERTOGENBOSCH</td>\n",
       "      <td>2010</td>\n",
       "      <td>enexis</td>\n",
       "      <td>2</td>\n",
       "      <td>51.700196</td>\n",
       "      <td>5.306806</td>\n",
       "    </tr>\n",
       "    <tr>\n",
       "      <th>116</th>\n",
       "      <td>LEEUWARDEN</td>\n",
       "      <td>2010</td>\n",
       "      <td>enexis</td>\n",
       "      <td>2</td>\n",
       "      <td>53.201390</td>\n",
       "      <td>5.808588</td>\n",
       "    </tr>\n",
       "    <tr>\n",
       "      <th>117</th>\n",
       "      <td>LEEUWARDEN</td>\n",
       "      <td>2010</td>\n",
       "      <td>liander</td>\n",
       "      <td>2</td>\n",
       "      <td>53.201390</td>\n",
       "      <td>5.808588</td>\n",
       "    </tr>\n",
       "    <tr>\n",
       "      <th>132</th>\n",
       "      <td>MAASTRICHT</td>\n",
       "      <td>2010</td>\n",
       "      <td>enexis</td>\n",
       "      <td>2</td>\n",
       "      <td>50.850000</td>\n",
       "      <td>5.683333</td>\n",
       "    </tr>\n",
       "    <tr>\n",
       "      <th>142</th>\n",
       "      <td>ZWOLLE</td>\n",
       "      <td>2010</td>\n",
       "      <td>enexis</td>\n",
       "      <td>2</td>\n",
       "      <td>52.505751</td>\n",
       "      <td>6.085822</td>\n",
       "    </tr>\n",
       "    <tr>\n",
       "      <th>152</th>\n",
       "      <td>ASSEN</td>\n",
       "      <td>2010</td>\n",
       "      <td>enexis</td>\n",
       "      <td>2</td>\n",
       "      <td>52.994749</td>\n",
       "      <td>6.563223</td>\n",
       "    </tr>\n",
       "    <tr>\n",
       "      <th>167</th>\n",
       "      <td>HALFWEG</td>\n",
       "      <td>2010</td>\n",
       "      <td>liander</td>\n",
       "      <td>1</td>\n",
       "      <td>52.383033</td>\n",
       "      <td>4.757441</td>\n",
       "    </tr>\n",
       "    <tr>\n",
       "      <th>182</th>\n",
       "      <td>HALFWEG</td>\n",
       "      <td>2010</td>\n",
       "      <td>liander</td>\n",
       "      <td>1</td>\n",
       "      <td>52.383033</td>\n",
       "      <td>4.757441</td>\n",
       "    </tr>\n",
       "    <tr>\n",
       "      <th>192</th>\n",
       "      <td>FRANEKER</td>\n",
       "      <td>2010</td>\n",
       "      <td>liander</td>\n",
       "      <td>2</td>\n",
       "      <td>53.189600</td>\n",
       "      <td>5.542568</td>\n",
       "    </tr>\n",
       "    <tr>\n",
       "      <th>202</th>\n",
       "      <td>GIETEN</td>\n",
       "      <td>2010</td>\n",
       "      <td>enexis</td>\n",
       "      <td>2</td>\n",
       "      <td>53.006641</td>\n",
       "      <td>6.764338</td>\n",
       "    </tr>\n",
       "    <tr>\n",
       "      <th>212</th>\n",
       "      <td>BERGEIJK</td>\n",
       "      <td>2010</td>\n",
       "      <td>enexis</td>\n",
       "      <td>2</td>\n",
       "      <td>51.318699</td>\n",
       "      <td>5.359563</td>\n",
       "    </tr>\n",
       "    <tr>\n",
       "      <th>222</th>\n",
       "      <td>ODIJK</td>\n",
       "      <td>2010</td>\n",
       "      <td>stedin</td>\n",
       "      <td>2</td>\n",
       "      <td>52.052239</td>\n",
       "      <td>5.235418</td>\n",
       "    </tr>\n",
       "    <tr>\n",
       "      <th>232</th>\n",
       "      <td>GROOTEGAST</td>\n",
       "      <td>2010</td>\n",
       "      <td>enexis</td>\n",
       "      <td>2</td>\n",
       "      <td>53.211598</td>\n",
       "      <td>6.275200</td>\n",
       "    </tr>\n",
       "    <tr>\n",
       "      <th>242</th>\n",
       "      <td>OOSTZAAN</td>\n",
       "      <td>2010</td>\n",
       "      <td>liander</td>\n",
       "      <td>2</td>\n",
       "      <td>52.446898</td>\n",
       "      <td>4.871300</td>\n",
       "    </tr>\n",
       "    <tr>\n",
       "      <th>252</th>\n",
       "      <td>HAARLEM</td>\n",
       "      <td>2010</td>\n",
       "      <td>liander</td>\n",
       "      <td>2</td>\n",
       "      <td>52.366667</td>\n",
       "      <td>4.650000</td>\n",
       "    </tr>\n",
       "    <tr>\n",
       "      <th>262</th>\n",
       "      <td>LELYSTAD</td>\n",
       "      <td>2010</td>\n",
       "      <td>liander</td>\n",
       "      <td>2</td>\n",
       "      <td>52.517640</td>\n",
       "      <td>5.473989</td>\n",
       "    </tr>\n",
       "    <tr>\n",
       "      <th>272</th>\n",
       "      <td>VALKENSWAARD</td>\n",
       "      <td>2010</td>\n",
       "      <td>enexis</td>\n",
       "      <td>2</td>\n",
       "      <td>51.352662</td>\n",
       "      <td>5.456101</td>\n",
       "    </tr>\n",
       "    <tr>\n",
       "      <th>282</th>\n",
       "      <td>DE STEEG</td>\n",
       "      <td>2010</td>\n",
       "      <td>liander</td>\n",
       "      <td>2</td>\n",
       "      <td>52.019687</td>\n",
       "      <td>6.060995</td>\n",
       "    </tr>\n",
       "    <tr>\n",
       "      <th>292</th>\n",
       "      <td>DIEVER</td>\n",
       "      <td>2010</td>\n",
       "      <td>enexis</td>\n",
       "      <td>2</td>\n",
       "      <td>52.857015</td>\n",
       "      <td>6.318489</td>\n",
       "    </tr>\n",
       "    <tr>\n",
       "      <th>302</th>\n",
       "      <td>UITHUIZEN</td>\n",
       "      <td>2010</td>\n",
       "      <td>enexis</td>\n",
       "      <td>2</td>\n",
       "      <td>53.408250</td>\n",
       "      <td>6.670896</td>\n",
       "    </tr>\n",
       "    <tr>\n",
       "      <th>...</th>\n",
       "      <td>...</td>\n",
       "      <td>...</td>\n",
       "      <td>...</td>\n",
       "      <td>...</td>\n",
       "      <td>...</td>\n",
       "      <td>...</td>\n",
       "    </tr>\n",
       "    <tr>\n",
       "      <th>3670</th>\n",
       "      <td>RENSWOUDE</td>\n",
       "      <td>2010</td>\n",
       "      <td>stedin</td>\n",
       "      <td>2</td>\n",
       "      <td>52.074493</td>\n",
       "      <td>5.540471</td>\n",
       "    </tr>\n",
       "    <tr>\n",
       "      <th>3689</th>\n",
       "      <td>HILLEGOM</td>\n",
       "      <td>2010</td>\n",
       "      <td>liander</td>\n",
       "      <td>2</td>\n",
       "      <td>52.293850</td>\n",
       "      <td>4.593843</td>\n",
       "    </tr>\n",
       "    <tr>\n",
       "      <th>3699</th>\n",
       "      <td>HILVARENBEEK</td>\n",
       "      <td>2010</td>\n",
       "      <td>enexis</td>\n",
       "      <td>2</td>\n",
       "      <td>51.484585</td>\n",
       "      <td>5.132665</td>\n",
       "    </tr>\n",
       "    <tr>\n",
       "      <th>3709</th>\n",
       "      <td>BUNSCHOTEN-SPAKENBURG</td>\n",
       "      <td>2010</td>\n",
       "      <td>stedin</td>\n",
       "      <td>2</td>\n",
       "      <td>52.241667</td>\n",
       "      <td>5.374795</td>\n",
       "    </tr>\n",
       "    <tr>\n",
       "      <th>3719</th>\n",
       "      <td>NOORDWIJKERHOUT</td>\n",
       "      <td>2010</td>\n",
       "      <td>liander</td>\n",
       "      <td>2</td>\n",
       "      <td>52.269556</td>\n",
       "      <td>4.488424</td>\n",
       "    </tr>\n",
       "    <tr>\n",
       "      <th>3729</th>\n",
       "      <td>ZALTBOMMEL</td>\n",
       "      <td>2010</td>\n",
       "      <td>liander</td>\n",
       "      <td>2</td>\n",
       "      <td>51.806782</td>\n",
       "      <td>5.243605</td>\n",
       "    </tr>\n",
       "    <tr>\n",
       "      <th>3739</th>\n",
       "      <td>VELDHOVEN</td>\n",
       "      <td>2010</td>\n",
       "      <td>enexis</td>\n",
       "      <td>2</td>\n",
       "      <td>51.416667</td>\n",
       "      <td>5.416667</td>\n",
       "    </tr>\n",
       "    <tr>\n",
       "      <th>3749</th>\n",
       "      <td>LEIDEN</td>\n",
       "      <td>2010</td>\n",
       "      <td>liander</td>\n",
       "      <td>2</td>\n",
       "      <td>52.176281</td>\n",
       "      <td>4.528154</td>\n",
       "    </tr>\n",
       "    <tr>\n",
       "      <th>3759</th>\n",
       "      <td>LEIDERDORP</td>\n",
       "      <td>2010</td>\n",
       "      <td>liander</td>\n",
       "      <td>2</td>\n",
       "      <td>52.156380</td>\n",
       "      <td>4.537878</td>\n",
       "    </tr>\n",
       "    <tr>\n",
       "      <th>3769</th>\n",
       "      <td>DRACHTEN</td>\n",
       "      <td>2010</td>\n",
       "      <td>liander</td>\n",
       "      <td>2</td>\n",
       "      <td>53.112536</td>\n",
       "      <td>6.098897</td>\n",
       "    </tr>\n",
       "    <tr>\n",
       "      <th>3779</th>\n",
       "      <td>PUTTEN</td>\n",
       "      <td>2010</td>\n",
       "      <td>liander</td>\n",
       "      <td>2</td>\n",
       "      <td>52.260897</td>\n",
       "      <td>5.613074</td>\n",
       "    </tr>\n",
       "    <tr>\n",
       "      <th>3789</th>\n",
       "      <td>STIENS</td>\n",
       "      <td>2010</td>\n",
       "      <td>liander</td>\n",
       "      <td>2</td>\n",
       "      <td>53.259824</td>\n",
       "      <td>5.764857</td>\n",
       "    </tr>\n",
       "    <tr>\n",
       "      <th>3799</th>\n",
       "      <td>PAPENDRECHT</td>\n",
       "      <td>2010</td>\n",
       "      <td>stedin</td>\n",
       "      <td>2</td>\n",
       "      <td>51.837307</td>\n",
       "      <td>4.698733</td>\n",
       "    </tr>\n",
       "    <tr>\n",
       "      <th>3809</th>\n",
       "      <td>STOMPETOREN</td>\n",
       "      <td>2010</td>\n",
       "      <td>liander</td>\n",
       "      <td>2</td>\n",
       "      <td>52.615347</td>\n",
       "      <td>4.822788</td>\n",
       "    </tr>\n",
       "    <tr>\n",
       "      <th>3819</th>\n",
       "      <td>MAASBRACHT</td>\n",
       "      <td>2010</td>\n",
       "      <td>enexis</td>\n",
       "      <td>2</td>\n",
       "      <td>51.145124</td>\n",
       "      <td>5.889301</td>\n",
       "    </tr>\n",
       "    <tr>\n",
       "      <th>3829</th>\n",
       "      <td>HEERLEN</td>\n",
       "      <td>2010</td>\n",
       "      <td>enexis</td>\n",
       "      <td>2</td>\n",
       "      <td>50.882832</td>\n",
       "      <td>5.962319</td>\n",
       "    </tr>\n",
       "    <tr>\n",
       "      <th>3839</th>\n",
       "      <td>HEEMSKERK</td>\n",
       "      <td>2010</td>\n",
       "      <td>liander</td>\n",
       "      <td>2</td>\n",
       "      <td>52.511077</td>\n",
       "      <td>4.671646</td>\n",
       "    </tr>\n",
       "    <tr>\n",
       "      <th>3849</th>\n",
       "      <td>BERGEN OP ZOOM</td>\n",
       "      <td>2010</td>\n",
       "      <td>enexis</td>\n",
       "      <td>2</td>\n",
       "      <td>51.494492</td>\n",
       "      <td>4.283509</td>\n",
       "    </tr>\n",
       "    <tr>\n",
       "      <th>3859</th>\n",
       "      <td>KAMPEN</td>\n",
       "      <td>2010</td>\n",
       "      <td>enexis</td>\n",
       "      <td>2</td>\n",
       "      <td>52.558086</td>\n",
       "      <td>5.897808</td>\n",
       "    </tr>\n",
       "    <tr>\n",
       "      <th>3869</th>\n",
       "      <td>AMERSFOORT</td>\n",
       "      <td>2010</td>\n",
       "      <td>liander</td>\n",
       "      <td>3</td>\n",
       "      <td>52.156022</td>\n",
       "      <td>5.389526</td>\n",
       "    </tr>\n",
       "    <tr>\n",
       "      <th>3870</th>\n",
       "      <td>AMERSFOORT</td>\n",
       "      <td>2010</td>\n",
       "      <td>stedin</td>\n",
       "      <td>2</td>\n",
       "      <td>52.156022</td>\n",
       "      <td>5.389526</td>\n",
       "    </tr>\n",
       "    <tr>\n",
       "      <th>3889</th>\n",
       "      <td>DE RIJP</td>\n",
       "      <td>2010</td>\n",
       "      <td>liander</td>\n",
       "      <td>2</td>\n",
       "      <td>52.558168</td>\n",
       "      <td>4.841879</td>\n",
       "    </tr>\n",
       "    <tr>\n",
       "      <th>3899</th>\n",
       "      <td>BOSKOOP</td>\n",
       "      <td>2010</td>\n",
       "      <td>liander</td>\n",
       "      <td>2</td>\n",
       "      <td>52.069873</td>\n",
       "      <td>4.667693</td>\n",
       "    </tr>\n",
       "    <tr>\n",
       "      <th>3900</th>\n",
       "      <td>BOSKOOP</td>\n",
       "      <td>2010</td>\n",
       "      <td>stedin</td>\n",
       "      <td>2</td>\n",
       "      <td>52.069873</td>\n",
       "      <td>4.667693</td>\n",
       "    </tr>\n",
       "    <tr>\n",
       "      <th>3919</th>\n",
       "      <td>DEN BURG</td>\n",
       "      <td>2010</td>\n",
       "      <td>liander</td>\n",
       "      <td>2</td>\n",
       "      <td>53.056223</td>\n",
       "      <td>4.796742</td>\n",
       "    </tr>\n",
       "    <tr>\n",
       "      <th>3929</th>\n",
       "      <td>WASSENAAR</td>\n",
       "      <td>2010</td>\n",
       "      <td>liander</td>\n",
       "      <td>2</td>\n",
       "      <td>52.110844</td>\n",
       "      <td>4.355982</td>\n",
       "    </tr>\n",
       "    <tr>\n",
       "      <th>3940</th>\n",
       "      <td>GELDERMALSEN</td>\n",
       "      <td>2010</td>\n",
       "      <td>liander</td>\n",
       "      <td>2</td>\n",
       "      <td>51.883333</td>\n",
       "      <td>5.300000</td>\n",
       "    </tr>\n",
       "    <tr>\n",
       "      <th>3941</th>\n",
       "      <td>GELDERMALSEN</td>\n",
       "      <td>2010</td>\n",
       "      <td>stedin</td>\n",
       "      <td>1</td>\n",
       "      <td>51.883333</td>\n",
       "      <td>5.300000</td>\n",
       "    </tr>\n",
       "    <tr>\n",
       "      <th>3954</th>\n",
       "      <td>DORDRECHT</td>\n",
       "      <td>2010</td>\n",
       "      <td>stedin</td>\n",
       "      <td>2</td>\n",
       "      <td>51.800653</td>\n",
       "      <td>4.698199</td>\n",
       "    </tr>\n",
       "    <tr>\n",
       "      <th>3966</th>\n",
       "      <td>RIJSSEN</td>\n",
       "      <td>2010</td>\n",
       "      <td>enexis</td>\n",
       "      <td>2</td>\n",
       "      <td>52.308315</td>\n",
       "      <td>6.519603</td>\n",
       "    </tr>\n",
       "  </tbody>\n",
       "</table>\n",
       "<p>394 rows × 6 columns</p>\n",
       "</div>"
      ],
      "text/plain": [
       "                       city  years companies  predict_label   latitude  \\\n",
       "0              S-GRAVENHAGE   2010   liander              3  52.083333   \n",
       "1              S-GRAVENHAGE   2010    stedin              2  52.083333   \n",
       "29                ROTTERDAM   2010   liander              2  51.916667   \n",
       "30                ROTTERDAM   2010    stedin              2  51.916667   \n",
       "49                  UTRECHT   2010   liander              1  52.093813   \n",
       "50                  UTRECHT   2010    stedin              2  52.093813   \n",
       "66                EINDHOVEN   2010    enexis              2  51.450000   \n",
       "76          HAARLEMMERLIEDE   2010   liander              2  52.388873   \n",
       "86                GRONINGEN   2010    enexis              2  53.216667   \n",
       "96                   ARNHEM   2010   liander              2  51.979818   \n",
       "106         S-HERTOGENBOSCH   2010    enexis              2  51.700196   \n",
       "116              LEEUWARDEN   2010    enexis              2  53.201390   \n",
       "117              LEEUWARDEN   2010   liander              2  53.201390   \n",
       "132              MAASTRICHT   2010    enexis              2  50.850000   \n",
       "142                  ZWOLLE   2010    enexis              2  52.505751   \n",
       "152                   ASSEN   2010    enexis              2  52.994749   \n",
       "167                 HALFWEG   2010   liander              1  52.383033   \n",
       "182                 HALFWEG   2010   liander              1  52.383033   \n",
       "192                FRANEKER   2010   liander              2  53.189600   \n",
       "202                  GIETEN   2010    enexis              2  53.006641   \n",
       "212                BERGEIJK   2010    enexis              2  51.318699   \n",
       "222                   ODIJK   2010    stedin              2  52.052239   \n",
       "232              GROOTEGAST   2010    enexis              2  53.211598   \n",
       "242                OOSTZAAN   2010   liander              2  52.446898   \n",
       "252                 HAARLEM   2010   liander              2  52.366667   \n",
       "262                LELYSTAD   2010   liander              2  52.517640   \n",
       "272            VALKENSWAARD   2010    enexis              2  51.352662   \n",
       "282                DE STEEG   2010   liander              2  52.019687   \n",
       "292                  DIEVER   2010    enexis              2  52.857015   \n",
       "302               UITHUIZEN   2010    enexis              2  53.408250   \n",
       "...                     ...    ...       ...            ...        ...   \n",
       "3670              RENSWOUDE   2010    stedin              2  52.074493   \n",
       "3689               HILLEGOM   2010   liander              2  52.293850   \n",
       "3699           HILVARENBEEK   2010    enexis              2  51.484585   \n",
       "3709  BUNSCHOTEN-SPAKENBURG   2010    stedin              2  52.241667   \n",
       "3719        NOORDWIJKERHOUT   2010   liander              2  52.269556   \n",
       "3729             ZALTBOMMEL   2010   liander              2  51.806782   \n",
       "3739              VELDHOVEN   2010    enexis              2  51.416667   \n",
       "3749                 LEIDEN   2010   liander              2  52.176281   \n",
       "3759             LEIDERDORP   2010   liander              2  52.156380   \n",
       "3769               DRACHTEN   2010   liander              2  53.112536   \n",
       "3779                 PUTTEN   2010   liander              2  52.260897   \n",
       "3789                 STIENS   2010   liander              2  53.259824   \n",
       "3799            PAPENDRECHT   2010    stedin              2  51.837307   \n",
       "3809            STOMPETOREN   2010   liander              2  52.615347   \n",
       "3819             MAASBRACHT   2010    enexis              2  51.145124   \n",
       "3829                HEERLEN   2010    enexis              2  50.882832   \n",
       "3839              HEEMSKERK   2010   liander              2  52.511077   \n",
       "3849         BERGEN OP ZOOM   2010    enexis              2  51.494492   \n",
       "3859                 KAMPEN   2010    enexis              2  52.558086   \n",
       "3869             AMERSFOORT   2010   liander              3  52.156022   \n",
       "3870             AMERSFOORT   2010    stedin              2  52.156022   \n",
       "3889                DE RIJP   2010   liander              2  52.558168   \n",
       "3899                BOSKOOP   2010   liander              2  52.069873   \n",
       "3900                BOSKOOP   2010    stedin              2  52.069873   \n",
       "3919               DEN BURG   2010   liander              2  53.056223   \n",
       "3929              WASSENAAR   2010   liander              2  52.110844   \n",
       "3940           GELDERMALSEN   2010   liander              2  51.883333   \n",
       "3941           GELDERMALSEN   2010    stedin              1  51.883333   \n",
       "3954              DORDRECHT   2010    stedin              2  51.800653   \n",
       "3966                RIJSSEN   2010    enexis              2  52.308315   \n",
       "\n",
       "      longtitude  \n",
       "0       4.300000  \n",
       "1       4.300000  \n",
       "29      4.500000  \n",
       "30      4.500000  \n",
       "49      5.119095  \n",
       "50      5.119095  \n",
       "66      5.466667  \n",
       "76      4.687978  \n",
       "86      6.550000  \n",
       "96      5.925636  \n",
       "106     5.306806  \n",
       "116     5.808588  \n",
       "117     5.808588  \n",
       "132     5.683333  \n",
       "142     6.085822  \n",
       "152     6.563223  \n",
       "167     4.757441  \n",
       "182     4.757441  \n",
       "192     5.542568  \n",
       "202     6.764338  \n",
       "212     5.359563  \n",
       "222     5.235418  \n",
       "232     6.275200  \n",
       "242     4.871300  \n",
       "252     4.650000  \n",
       "262     5.473989  \n",
       "272     5.456101  \n",
       "282     6.060995  \n",
       "292     6.318489  \n",
       "302     6.670896  \n",
       "...          ...  \n",
       "3670    5.540471  \n",
       "3689    4.593843  \n",
       "3699    5.132665  \n",
       "3709    5.374795  \n",
       "3719    4.488424  \n",
       "3729    5.243605  \n",
       "3739    5.416667  \n",
       "3749    4.528154  \n",
       "3759    4.537878  \n",
       "3769    6.098897  \n",
       "3779    5.613074  \n",
       "3789    5.764857  \n",
       "3799    4.698733  \n",
       "3809    4.822788  \n",
       "3819    5.889301  \n",
       "3829    5.962319  \n",
       "3839    4.671646  \n",
       "3849    4.283509  \n",
       "3859    5.897808  \n",
       "3869    5.389526  \n",
       "3870    5.389526  \n",
       "3889    4.841879  \n",
       "3899    4.667693  \n",
       "3900    4.667693  \n",
       "3919    4.796742  \n",
       "3929    4.355982  \n",
       "3940    5.300000  \n",
       "3941    5.300000  \n",
       "3954    4.698199  \n",
       "3966    6.519603  \n",
       "\n",
       "[394 rows x 6 columns]"
      ]
     },
     "execution_count": 6,
     "metadata": {},
     "output_type": "execute_result"
    }
   ],
   "source": [
    "e_geocode.loc[e_geocode[\"years\"] == 2010]"
   ]
  },
  {
   "cell_type": "markdown",
   "metadata": {},
   "source": [
    "## Electricity Consume file"
   ]
  },
  {
   "cell_type": "code",
   "execution_count": 162,
   "metadata": {},
   "outputs": [],
   "source": [
    "data = pd.read_csv(\"mean_LS.csv\")"
   ]
  },
  {
   "cell_type": "code",
   "execution_count": 163,
   "metadata": {},
   "outputs": [],
   "source": [
    "company_data = data.loc[data.groupby([\"city\", \"years\"])[\"annual_consume\"].idxmax(), [\"city\", \"years\", \"companies\"]].reset_index(drop = True)"
   ]
  },
  {
   "cell_type": "code",
   "execution_count": 164,
   "metadata": {
    "scrolled": true
   },
   "outputs": [],
   "source": [
    "consume_data = data.groupby([\"city\", \"years\"])[\"annual_consume\"].sum().reset_index()"
   ]
  },
  {
   "cell_type": "code",
   "execution_count": 165,
   "metadata": {},
   "outputs": [],
   "source": [
    "consume_data[\"annual_consume\"] = consume_data[\"annual_consume\"].apply(lambda x: round(x,3))"
   ]
  },
  {
   "cell_type": "code",
   "execution_count": 166,
   "metadata": {
    "scrolled": true
   },
   "outputs": [],
   "source": [
    "page2_e_consume_data = company_data.merge(right = consume_data, how = \"left\", on = [\"city\", \"years\"])"
   ]
  },
  {
   "cell_type": "code",
   "execution_count": 167,
   "metadata": {
    "scrolled": true
   },
   "outputs": [],
   "source": [
    "page2_e_consume_data.to_csv(\"e_consume_data.csv\", index = False, float_format = \"%g\")"
   ]
  },
  {
   "cell_type": "markdown",
   "metadata": {},
   "source": [
    "## Electricity Lowtarif and smartmeter file"
   ]
  },
  {
   "cell_type": "code",
   "execution_count": 45,
   "metadata": {},
   "outputs": [],
   "source": [
    "companies = [\"enexis\", \"liander\", \"stedin\"]\n",
    "features = [\"city\", \"annual_consume_lowtarif_perc\", \"smartmeter_perc\"]\n",
    "Range = list(range(0,100,10))\n",
    "Range.append(101)\n",
    "labels = [5,15,25,35,45,55,65,75,85,95]\n",
    "data = pd.DataFrame()\n",
    "for year in range(2010, 2020):\n",
    "    for company in companies:\n",
    "        raw_data = pd.read_csv(\"electricity/%s_electricity_%s.csv\" % (company, year))[features].dropna()\n",
    "        raw_data[\"years\"] = year\n",
    "        raw_data[\"lowtarif_cut\"] = pd.cut(raw_data[\"annual_consume_lowtarif_perc\"].values, Range, right = False, labels = labels)\n",
    "        raw_data[\"smartmeter_cut\"] = pd.cut(raw_data[\"smartmeter_perc\"].values, Range, right = False, labels = labels)\n",
    "        raw_data = raw_data.iloc[:,[0,3,4,5]]\n",
    "        data = data.append(raw_data, ignore_index = True)\n"
   ]
  },
  {
   "cell_type": "code",
   "execution_count": 46,
   "metadata": {},
   "outputs": [],
   "source": [
    "l_data = data.groupby([\"city\", \"years\", \"lowtarif_cut\"]).count().reset_index()\n",
    "l_data = l_data.rename(columns = {\"smartmeter_cut\":\"lowtarif_cut_count\"}).dropna().reset_index(drop = True)\n",
    "l_data[\"lowtarif_cut_count\"] = l_data[\"lowtarif_cut_count\"].apply(lambda x: int(x))\n",
    "l_data.to_csv(\"e_lowtarif_count.csv\", index = False)\n",
    "l_data = pd.read_csv(\"e_lowtarif_count.csv\")\n",
    "l_data = l_data.merge(right = company_data, how = \"left\", on = [\"city\", \"years\"])\n",
    "l_data.to_csv(\"e_lowtarif_count.csv\", index = False)\n",
    "\n",
    "s_data = data.groupby([\"city\", \"years\", \"smartmeter_cut\"]).count().reset_index()\n",
    "s_data = s_data.rename(columns = {\"lowtarif_cut\":\"smartmeter_cut_count\"}).dropna().reset_index(drop = True)\n",
    "s_data[\"smartmeter_cut_count\"] = s_data[\"smartmeter_cut_count\"].apply(lambda x: int(x))\n",
    "s_data.to_csv(\"e_smartmeter_count.csv\", index = False)\n",
    "s_data = pd.read_csv(\"e_smartmeter_count.csv\")\n",
    "s_data = s_data.merge(right = company_data, how = \"left\", on = [\"city\", \"years\"])\n",
    "s_data.to_csv(\"e_smartmeter_count.csv\", index = False)"
   ]
  },
  {
   "cell_type": "markdown",
   "metadata": {},
   "source": [
    "## Gas consume\n"
   ]
  },
  {
   "cell_type": "code",
   "execution_count": 152,
   "metadata": {
    "scrolled": true
   },
   "outputs": [],
   "source": [
    "companies = [\"enexis\", \"liander\", \"stedin\"]\n",
    "features = [\"city\", \"annual_consume\"]\n",
    "data = pd.DataFrame()\n",
    "for year in range(2010,2020):\n",
    "    for company in companies:\n",
    "        raw_data = pd.read_csv(\"gas/%s_gas_%s.csv\" % (company, year))[features].dropna()\n",
    "        raw_data[\"years\"] = year\n",
    "        raw_data[\"companies\"] = company\n",
    "        data = data.append(raw_data, ignore_index = True)"
   ]
  },
  {
   "cell_type": "code",
   "execution_count": 153,
   "metadata": {
    "scrolled": true
   },
   "outputs": [],
   "source": [
    "consume_data = data.groupby([\"city\", \"years\", \"companies\"]).sum().reset_index()"
   ]
  },
  {
   "cell_type": "code",
   "execution_count": 154,
   "metadata": {},
   "outputs": [],
   "source": [
    "company_data = consume_data.loc[consume_data.groupby([\"city\", \"years\"])[\"annual_consume\"].idxmax(), [\"city\", \"years\", \"companies\"]].reset_index(drop = True)"
   ]
  },
  {
   "cell_type": "code",
   "execution_count": 155,
   "metadata": {},
   "outputs": [],
   "source": [
    "consume_data = consume_data.groupby([\"city\", \"years\"])[\"annual_consume\"].sum().reset_index()"
   ]
  },
  {
   "cell_type": "code",
   "execution_count": 156,
   "metadata": {},
   "outputs": [],
   "source": [
    "consume_data[\"annual_consume\"] = (consume_data[\"annual_consume\"] / 1000).apply(lambda x: round(x, 3))"
   ]
  },
  {
   "cell_type": "code",
   "execution_count": 157,
   "metadata": {},
   "outputs": [],
   "source": [
    "page2_g_consume_data = company_data.merge(right = consume_data, how = \"left\", on = [\"city\", \"years\"])"
   ]
  },
  {
   "cell_type": "code",
   "execution_count": 158,
   "metadata": {},
   "outputs": [],
   "source": [
    "page2_g_consume_data.to_csv(\"g_consume_data.csv\", index = False, float_format = \"%g\")"
   ]
  },
  {
   "cell_type": "code",
   "execution_count": 172,
   "metadata": {},
   "outputs": [
    {
     "data": {
      "text/plain": [
       "city              'S GRAVENDEEL\n",
       "years                      2010\n",
       "companies                enexis\n",
       "annual_consume            0.818\n",
       "dtype: object"
      ]
     },
     "execution_count": 172,
     "metadata": {},
     "output_type": "execute_result"
    }
   ],
   "source": [
    "np.min(page2_g_consume_data)"
   ]
  },
  {
   "cell_type": "markdown",
   "metadata": {},
   "source": [
    "## Gas annual consume per conn and smartmeter"
   ]
  },
  {
   "cell_type": "code",
   "execution_count": 132,
   "metadata": {
    "scrolled": true
   },
   "outputs": [],
   "source": [
    "companies = [\"enexis\", \"liander\", \"stedin\"]\n",
    "features = [\"city\", \"num_connections\",  \"annual_consume\", \"smartmeter_perc\"]\n",
    "Range = list(range(0,100,10))\n",
    "Range.append(101)\n",
    "labels = [5,15,25,35,45,55,65,75,85,95]\n",
    "consume_range = list(range(0, 200, 20))\n",
    "consume_range.append(2600)\n",
    "c_labels = [10,30,50,70,90,110,130,150,170,190]\n",
    "\n",
    "\n",
    "data = pd.DataFrame()\n",
    "for year in range(2010, 2020):\n",
    "    for company in companies:\n",
    "        raw_data = pd.read_csv(\"gas/%s_gas_%s.csv\" % (company, year))[features].dropna()\n",
    "        raw_data[\"years\"] = year\n",
    "        data = data.append(raw_data, ignore_index = True)\n",
    "data[\"c_per_conn\"] = data[\"annual_consume\"] / data[\"num_connections\"]\n",
    "data[\"c_per_conn_cut\"] = pd.cut(data[\"c_per_conn\"].values, consume_range, right = False, labels = c_labels)\n",
    "data[\"smartmeter_cut\"] = pd.cut(data[\"smartmeter_perc\"].values, Range, right = False, labels = labels)\n",
    "data = data.iloc[:,[0,4,6,7]]"
   ]
  },
  {
   "cell_type": "code",
   "execution_count": 133,
   "metadata": {},
   "outputs": [],
   "source": [
    "c_data = data.groupby([\"city\", \"years\", \"c_per_conn_cut\"]).count().reset_index()\n",
    "c_data = c_data.rename(columns = {\"smartmeter_cut\":\"c_per_conn_cut_count\"}).dropna().reset_index(drop = True)\n",
    "c_data[\"c_per_conn_cut_count\"] = c_data[\"c_per_conn_cut_count\"].apply(lambda x: int(x))\n",
    "c_data.to_csv(\"g_c_per_conn_count.csv\", index = False)\n",
    "c_data = pd.read_csv(\"g_c_per_conn_count.csv\")\n",
    "c_data = c_data.merge(right = company_data, how = \"left\", on = [\"city\", \"years\"])\n",
    "c_data.to_csv(\"g_c_per_conn_count.csv\", index = False)\n",
    "\n",
    "s_data = data.groupby([\"city\", \"years\", \"smartmeter_cut\"]).count().reset_index()\n",
    "s_data = s_data.rename(columns = {\"c_per_conn_cut\":\"smartmeter_cut_count\"}).dropna().reset_index(drop = True)\n",
    "s_data[\"smartmeter_cut_count\"] = s_data[\"smartmeter_cut_count\"].apply(lambda x: int(x))\n",
    "s_data.to_csv(\"g_smartmeter_count.csv\", index = False)\n",
    "s_data = pd.read_csv(\"g_smartmeter_count.csv\")\n",
    "s_data = s_data.merge(right = company_data, how = \"left\", on = [\"city\", \"years\"])\n",
    "s_data.to_csv(\"g_smartmeter_count.csv\", index = False)"
   ]
  },
  {
   "cell_type": "markdown",
   "metadata": {},
   "source": [
    "## Gas mean c_per_conn and smartmeter"
   ]
  },
  {
   "cell_type": "code",
   "execution_count": 97,
   "metadata": {},
   "outputs": [],
   "source": [
    "companies = [\"enexis\", \"liander\", \"stedin\"]\n",
    "features = [\"city\", \"num_connections\",  \"annual_consume\", \"smartmeter_perc\"]\n",
    "data = pd.DataFrame()\n",
    "for year in range(2010, 2020):\n",
    "    for company in companies:\n",
    "        raw_data = pd.read_csv(\"gas/%s_gas_%s.csv\" % (company, year))[features].dropna()\n",
    "        raw_data[\"years\"] = year\n",
    "        data = data.append(raw_data, ignore_index = True)"
   ]
  },
  {
   "cell_type": "code",
   "execution_count": 98,
   "metadata": {},
   "outputs": [],
   "source": [
    "data[\"c_per_conn\"] = data[\"annual_consume\"] / data[\"num_connections\"]"
   ]
  },
  {
   "cell_type": "code",
   "execution_count": 107,
   "metadata": {},
   "outputs": [],
   "source": [
    "data = data.iloc[:,[0,2,3,4,5]].groupby([\"city\", \"years\"]).agg({\"annual_consume\": \"sum\", \"smartmeter_perc\": \"mean\", \"c_per_conn\": \"mean\"}).reset_index()"
   ]
  },
  {
   "cell_type": "code",
   "execution_count": 108,
   "metadata": {},
   "outputs": [],
   "source": [
    "mean_CS = company_data.merge(right = data, how = \"left\", on = [\"city\", \"years\"])"
   ]
  },
  {
   "cell_type": "code",
   "execution_count": 110,
   "metadata": {},
   "outputs": [],
   "source": [
    "mean_CS.to_csv(\"mean_CS.csv\", index = False, float_format = \"%g\")"
   ]
  },
  {
   "cell_type": "code",
   "execution_count": 113,
   "metadata": {},
   "outputs": [],
   "source": [
    "mean_CS = pd.read_csv(\"mean_CS.csv\")\n",
    "data = pd.DataFrame(mean_CS.loc[mean_CS[\"years\"] == int(year), [\"smartmeter_perc\", \"c_per_conn\", \"annual_consume\", \"city\", \"companies\"]]).reset_index(drop = True)\n",
    "data[\"annual_consume\"] = minmax_scale(data[\"annual_consume\"],feature_range=(2, 20))"
   ]
  },
  {
   "cell_type": "code",
   "execution_count": 116,
   "metadata": {},
   "outputs": [
    {
     "data": {
      "text/plain": [
       "913.7710000000001"
      ]
     },
     "execution_count": 116,
     "metadata": {},
     "output_type": "execute_result"
    }
   ],
   "source": [
    "np.max(mean_CS[\"c_per_conn\"])"
   ]
  },
  {
   "cell_type": "code",
   "execution_count": null,
   "metadata": {},
   "outputs": [],
   "source": []
  }
 ],
 "metadata": {
  "kernelspec": {
   "display_name": "Python 3",
   "language": "python",
   "name": "python3"
  },
  "language_info": {
   "codemirror_mode": {
    "name": "ipython",
    "version": 3
   },
   "file_extension": ".py",
   "mimetype": "text/x-python",
   "name": "python",
   "nbconvert_exporter": "python",
   "pygments_lexer": "ipython3",
   "version": "3.6.4"
  }
 },
 "nbformat": 4,
 "nbformat_minor": 2
}
