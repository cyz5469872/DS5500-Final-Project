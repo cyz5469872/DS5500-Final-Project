{
 "cells": [
  {
   "cell_type": "code",
   "execution_count": 1,
   "metadata": {},
   "outputs": [],
   "source": [
    "import numpy as np\n",
    "import pandas as pd\n",
    "from sklearn.linear_model import LinearRegression\n",
    "from sklearn.preprocessing import MinMaxScaler"
   ]
  },
  {
   "cell_type": "code",
   "execution_count": 2,
   "metadata": {},
   "outputs": [],
   "source": [
    "companies = [\"liander\", \"stedin\"]\n",
    "features = [\"num_connections\", \"perc_of_active_connections\", \"type_conn_perc\", \"annual_consume\"]"
   ]
  },
  {
   "cell_type": "markdown",
   "metadata": {},
   "source": [
    "## Type_connection_perc predict"
   ]
  },
  {
   "cell_type": "code",
   "execution_count": 3,
   "metadata": {},
   "outputs": [],
   "source": [
    "train = pd.DataFrame()\n",
    "for year in range(2011, 2020):\n",
    "    data = pd.read_csv(\"gas/enexis_gas_%d.csv\" % year)[features]\n",
    "    train = train.append(data, ignore_index = True)\n",
    "test = pd.read_csv(\"gas/enexis_gas_2010.csv\")[features]"
   ]
  },
  {
   "cell_type": "code",
   "execution_count": 4,
   "metadata": {},
   "outputs": [],
   "source": [
    "model = LinearRegression(n_jobs = 8)\n",
    "scaler = MinMaxScaler()\n",
    "train_X = scaler.fit_transform(train.iloc[:, [0,1,3]].values)\n",
    "train_y = train.iloc[:, [2]].values"
   ]
  },
  {
   "cell_type": "code",
   "execution_count": 5,
   "metadata": {},
   "outputs": [
    {
     "data": {
      "text/plain": [
       "LinearRegression(copy_X=True, fit_intercept=True, n_jobs=8, normalize=False)"
      ]
     },
     "execution_count": 5,
     "metadata": {},
     "output_type": "execute_result"
    }
   ],
   "source": [
    "model.fit(train_X, train_y)"
   ]
  },
  {
   "cell_type": "code",
   "execution_count": 6,
   "metadata": {},
   "outputs": [],
   "source": [
    "test[\"type_conn_perc\"] = model.predict(scaler.transform(test.iloc[:, [0,1,3]].values))"
   ]
  },
  {
   "cell_type": "code",
   "execution_count": 7,
   "metadata": {},
   "outputs": [],
   "source": [
    "test[\"type_conn_perc\"] = test[\"type_conn_perc\"].apply(lambda x: 100 if(x > 100) else (0 if(x < 0) else x))"
   ]
  },
  {
   "cell_type": "code",
   "execution_count": 8,
   "metadata": {},
   "outputs": [],
   "source": [
    "data_2010 = pd.read_csv(\"gas/enexis_gas_2010.csv\")\n",
    "data_2010[\"type_conn_perc\"] = test[\"type_conn_perc\"]\n",
    "data_2010.to_csv(\"gas/enexis_gas_2010.csv\", index = False, float_format = \"%g\")"
   ]
  },
  {
   "cell_type": "markdown",
   "metadata": {},
   "source": [
    "## Smartmeter predict"
   ]
  },
  {
   "cell_type": "code",
   "execution_count": 10,
   "metadata": {},
   "outputs": [],
   "source": [
    "features = [\"num_connections\", \"perc_of_active_connections\", \"type_conn_perc\", \"annual_consume\", \"smartmeter_perc\"]"
   ]
  },
  {
   "cell_type": "code",
   "execution_count": 12,
   "metadata": {
    "scrolled": true
   },
   "outputs": [],
   "source": [
    "model = LinearRegression(n_jobs = 8)\n",
    "scaler = MinMaxScaler()\n",
    "for year in range(2010, 2020):\n",
    "    train = pd.DataFrame()\n",
    "    for company in companies:\n",
    "        data = pd.read_csv(\"gas/%s_gas_%s.csv\" % (company, year))[features]\n",
    "        train = train.append(data, ignore_index = True)\n",
    "    train = train.dropna().reset_index(drop = True)\n",
    "    train_X = scaler.fit_transform(train.iloc[:, [0,1,2,3]].values)\n",
    "    train_y = train.iloc[:,4].values\n",
    "    model.fit(train_X, train_y)\n",
    "    data = pd.read_csv(\"gas/enexis_gas_%s.csv\" % year)\n",
    "    test = pd.DataFrame(data[features])\n",
    "    test_X = scaler.transform(test.iloc[:, [0,1,2,3]].values)\n",
    "    test.iloc[:, 4] = model.predict(test_X)\n",
    "    test.iloc[:, 4] = test.iloc[:, 4].apply(lambda x: 100 if(x > 100) else (0 if(x < 0) else x))\n",
    "    data[\"smartmeter_perc\"] = test.iloc[:, 4]\n",
    "    data.to_csv(\"gas/enexis_gas_%s.csv\" % year, index = False, float_format = \"%g\")"
   ]
  },
  {
   "cell_type": "code",
   "execution_count": null,
   "metadata": {
    "scrolled": true
   },
   "outputs": [],
   "source": []
  },
  {
   "cell_type": "code",
   "execution_count": null,
   "metadata": {},
   "outputs": [],
   "source": []
  }
 ],
 "metadata": {
  "kernelspec": {
   "display_name": "Python 3",
   "language": "python",
   "name": "python3"
  },
  "language_info": {
   "codemirror_mode": {
    "name": "ipython",
    "version": 3
   },
   "file_extension": ".py",
   "mimetype": "text/x-python",
   "name": "python",
   "nbconvert_exporter": "python",
   "pygments_lexer": "ipython3",
   "version": "3.6.4"
  }
 },
 "nbformat": 4,
 "nbformat_minor": 2
}
