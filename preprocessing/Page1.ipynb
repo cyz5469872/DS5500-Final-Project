{
 "cells": [
  {
   "cell_type": "code",
   "execution_count": 1,
   "metadata": {},
   "outputs": [],
   "source": [
    "import numpy as np\n",
    "import pandas as pd\n",
    "from sklearn.linear_model import LinearRegression\n",
    "from sklearn.preprocessing import OneHotEncoder\n",
    "from sklearn.preprocessing import StandardScaler"
   ]
  },
  {
   "cell_type": "markdown",
   "metadata": {},
   "source": [
    "## Label"
   ]
  },
  {
   "cell_type": "code",
   "execution_count": 2,
   "metadata": {},
   "outputs": [],
   "source": [
    "energy_types = [\"electricity\", \"gas\"]\n",
    "companies = [\"enexis\", \"liander\", \"stedin\"]\n",
    "features = [\"city\", \"delivery_perc\", \"num_connections\", \"perc_of_active_connections\", \"type_conn_perc\", \"annual_consume\", \"annual_consume_lowtarif_perc\", \"smartmeter_perc\"]\n",
    "real_num_features = [\"city\", \"num_connections\", \"annual_consume\", \"active_connections\", \"annual_lowtarif_consume\", \"product_electricity\", \"p_type_conn\", \"smartmeter\"]\n",
    "perc_features = [\"city\", \"active_conn_perc\", \"consume_per_conn\", \"lowtarif_perc\", \"product_perc\", \"p_type_conn_perc\", \"years\", \"smartmeter_perc\", \"true_label\"]"
   ]
  },
  {
   "cell_type": "code",
   "execution_count": 3,
   "metadata": {
    "scrolled": true
   },
   "outputs": [],
   "source": [
    "def label_data(label):\n",
    "    if(label <= 0.1):\n",
    "        return 5\n",
    "    elif(label <= 0.2):\n",
    "        return 4\n",
    "    elif(label <= 0.4):\n",
    "        return 3\n",
    "    elif(label <= 0.7):\n",
    "        return 2\n",
    "    else:\n",
    "        return 1"
   ]
  },
  {
   "cell_type": "code",
   "execution_count": 4,
   "metadata": {},
   "outputs": [],
   "source": [
    "def repartition(data):\n",
    "    data[\"active_connections\"] = (data[\"num_connections\"] * data[\"perc_of_active_connections\"] / 100).apply(lambda x: int(x))\n",
    "    data[\"annual_lowtarif_consume\"] = data[\"annual_consume\"] * data[\"annual_consume_lowtarif_perc\"] / 100\n",
    "    data[\"product_electricity\"] = data[\"annual_consume\"] * (1 - data[\"delivery_perc\"] / 100)\n",
    "    data[\"p_type_conn\"] = (data[\"active_connections\"] * data[\"type_conn_perc\"] / 100).apply(lambda x: int(x))\n",
    "    data[\"smartmeter\"] = (data[\"active_connections\"] * data[\"smartmeter_perc\"] / 100).apply(lambda x: int(x))\n",
    "    data = pd.DataFrame(data.loc[:, real_num_features])\n",
    "    # Group by city\n",
    "    data = data.groupby(\"city\").sum().reset_index()\n",
    "    \n",
    "    data[\"active_conn_perc\"] = data[\"active_connections\"] / data[\"num_connections\"]\n",
    "    data[\"consume_per_conn\"] = data[\"annual_consume\"] / data[\"active_connections\"]\n",
    "    # data[\"lowtarif_per_conn\"] = data[\"annual_lowtarif_consume\"] / data[\"active_connections\"]\n",
    "    # data[\"product_per_conn\"] = data[\"product_electricity\"] / data[\"active_connections\"]\n",
    "    data[\"lowtarif_perc\"] = data[\"annual_lowtarif_consume\"] / data[\"annual_consume\"]\n",
    "    data[\"product_perc\"] = data[\"product_electricity\"] / data[\"annual_consume\"]\n",
    "    data[\"p_type_conn_perc\"] = data[\"p_type_conn\"] / data[\"active_connections\"]\n",
    "    data[\"smartmeter_perc\"] = data[\"smartmeter\"] / data[\"active_connections\"]\n",
    "    data[\"years\"] = year\n",
    "    data[\"true_label\"] = data[\"smartmeter_perc\"].apply(label_data)\n",
    "    data = data[perc_features]\n",
    "    return data[perc_features]"
   ]
  },
  {
   "cell_type": "code",
   "execution_count": 6,
   "metadata": {
    "scrolled": true
   },
   "outputs": [],
   "source": [
    "for energy_type in energy_types:\n",
    "    for year in range(2010, 2020):\n",
    "        raw_data = pd.DataFrame()\n",
    "        for company in companies:\n",
    "            origin = pd.read_csv(\"%s/%s_%s_%s.csv\" % (energy_type, company, energy_type, year))[features]\n",
    "            raw_data = raw_data.append(origin.dropna(), ignore_index = True)\n",
    "        output_data = repartition(raw_data)\n",
    "        output_data.to_csv(\"%s_labeled_data/%s.csv\" % (energy_type[0], year), index = False, float_format = \"%g\")"
   ]
  },
  {
   "cell_type": "markdown",
   "metadata": {},
   "source": [
    "## Add Geocode"
   ]
  },
  {
   "cell_type": "code",
   "execution_count": 20,
   "metadata": {},
   "outputs": [],
   "source": [
    "e_geocode = pd.read_csv(\"e_geocode.csv\")"
   ]
  },
  {
   "cell_type": "code",
   "execution_count": 21,
   "metadata": {},
   "outputs": [],
   "source": [
    "labeled_data = pd.DataFrame()\n",
    "for year in range(2010, 2020):\n",
    "    labeled_data = labeled_data.append(pd.read_csv(\"e_labeled_data/%s.csv\" % year))"
   ]
  },
  {
   "cell_type": "code",
   "execution_count": 24,
   "metadata": {},
   "outputs": [
    {
     "data": {
      "text/html": [
       "<div>\n",
       "<style scoped>\n",
       "    .dataframe tbody tr th:only-of-type {\n",
       "        vertical-align: middle;\n",
       "    }\n",
       "\n",
       "    .dataframe tbody tr th {\n",
       "        vertical-align: top;\n",
       "    }\n",
       "\n",
       "    .dataframe thead th {\n",
       "        text-align: right;\n",
       "    }\n",
       "</style>\n",
       "<table border=\"1\" class=\"dataframe\">\n",
       "  <thead>\n",
       "    <tr style=\"text-align: right;\">\n",
       "      <th></th>\n",
       "      <th>city</th>\n",
       "      <th>years</th>\n",
       "      <th>companies</th>\n",
       "      <th>predict_label</th>\n",
       "      <th>latitude</th>\n",
       "      <th>longtitude</th>\n",
       "    </tr>\n",
       "  </thead>\n",
       "  <tbody>\n",
       "    <tr>\n",
       "      <th>0</th>\n",
       "      <td>'S GRAVENHAGE</td>\n",
       "      <td>2015</td>\n",
       "      <td>stedin</td>\n",
       "      <td>1</td>\n",
       "      <td>52.083333</td>\n",
       "      <td>4.3</td>\n",
       "    </tr>\n",
       "    <tr>\n",
       "      <th>1</th>\n",
       "      <td>'S GRAVENHAGE</td>\n",
       "      <td>2016</td>\n",
       "      <td>stedin</td>\n",
       "      <td>2</td>\n",
       "      <td>52.083333</td>\n",
       "      <td>4.3</td>\n",
       "    </tr>\n",
       "    <tr>\n",
       "      <th>2</th>\n",
       "      <td>'S GRAVENHAGE</td>\n",
       "      <td>2017</td>\n",
       "      <td>stedin</td>\n",
       "      <td>2</td>\n",
       "      <td>52.083333</td>\n",
       "      <td>4.3</td>\n",
       "    </tr>\n",
       "    <tr>\n",
       "      <th>3</th>\n",
       "      <td>'S GRAVENHAGE</td>\n",
       "      <td>2019</td>\n",
       "      <td>stedin</td>\n",
       "      <td>3</td>\n",
       "      <td>52.083333</td>\n",
       "      <td>4.3</td>\n",
       "    </tr>\n",
       "    <tr>\n",
       "      <th>4</th>\n",
       "      <td>'S-GRAVENHAGE</td>\n",
       "      <td>2010</td>\n",
       "      <td>liander</td>\n",
       "      <td>3</td>\n",
       "      <td>52.083333</td>\n",
       "      <td>4.3</td>\n",
       "    </tr>\n",
       "  </tbody>\n",
       "</table>\n",
       "</div>"
      ],
      "text/plain": [
       "            city  years companies  predict_label   latitude  longtitude\n",
       "0  'S GRAVENHAGE   2015    stedin              1  52.083333         4.3\n",
       "1  'S GRAVENHAGE   2016    stedin              2  52.083333         4.3\n",
       "2  'S GRAVENHAGE   2017    stedin              2  52.083333         4.3\n",
       "3  'S GRAVENHAGE   2019    stedin              3  52.083333         4.3\n",
       "4  'S-GRAVENHAGE   2010   liander              3  52.083333         4.3"
      ]
     },
     "execution_count": 24,
     "metadata": {},
     "output_type": "execute_result"
    }
   ],
   "source": [
    "e_geocode.head()"
   ]
  },
  {
   "cell_type": "code",
   "execution_count": 51,
   "metadata": {
    "scrolled": true
   },
   "outputs": [],
   "source": [
    "temp = e_geocode.merge(right = labeled_data, how = \"left\", on = [\"city\", \"years\"])\n",
    "temp = temp.dropna().loc[:,[\"city\", \"years\", \"companies\", \"latitude\", \"longtitude\", \"true_label\"]].reset_index(drop = True)\n",
    "temp = temp.drop_duplicates()\n",
    "temp[\"true_label\"] = temp[\"true_label\"].apply(lambda x: int(x))\n",
    "temp.to_csv(\"e_geocode_labeled.csv\", index = False, float_format = \"%g\")"
   ]
  },
  {
   "cell_type": "code",
   "execution_count": 52,
   "metadata": {},
   "outputs": [],
   "source": [
    "g_geocode = pd.read_csv(\"g_geocode.csv\")"
   ]
  },
  {
   "cell_type": "code",
   "execution_count": 55,
   "metadata": {
    "scrolled": true
   },
   "outputs": [],
   "source": [
    "labeled_data = pd.DataFrame()\n",
    "for year in range(2010, 2020):\n",
    "    labeled_data = labeled_data.append(pd.read_csv(\"g_labeled_data/%s.csv\" % year))"
   ]
  },
  {
   "cell_type": "code",
   "execution_count": 58,
   "metadata": {
    "scrolled": true
   },
   "outputs": [],
   "source": [
    "temp = g_geocode.merge(right = labeled_data, how = \"left\", on = [\"city\", \"years\"])\n",
    "temp = temp.dropna().loc[:,[\"city\", \"years\", \"companies\", \"latitude\", \"longtitude\", \"true_label\"]].reset_index(drop = True)\n",
    "temp = temp.drop_duplicates()\n",
    "temp[\"true_label\"] = temp[\"true_label\"].apply(lambda x: int(x))\n",
    "temp.to_csv(\"g_geocode_labeled.csv\", index = False, float_format = \"%g\")"
   ]
  },
  {
   "cell_type": "code",
   "execution_count": null,
   "metadata": {
    "scrolled": true
   },
   "outputs": [],
   "source": []
  },
  {
   "cell_type": "code",
   "execution_count": null,
   "metadata": {},
   "outputs": [],
   "source": []
  }
 ],
 "metadata": {
  "kernelspec": {
   "display_name": "Python 3",
   "language": "python",
   "name": "python3"
  },
  "language_info": {
   "codemirror_mode": {
    "name": "ipython",
    "version": 3
   },
   "file_extension": ".py",
   "mimetype": "text/x-python",
   "name": "python",
   "nbconvert_exporter": "python",
   "pygments_lexer": "ipython3",
   "version": "3.6.4"
  }
 },
 "nbformat": 4,
 "nbformat_minor": 2
}
